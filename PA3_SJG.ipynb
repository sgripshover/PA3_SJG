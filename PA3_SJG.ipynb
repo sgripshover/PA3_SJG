{
 "cells": [
  {
   "cell_type": "markdown",
   "id": "76cf9cc3-70c2-45d6-ad26-5b23b6aa7279",
   "metadata": {},
   "source": [
    "# Programming Assignment X\n",
    "---\n",
    "**Author:** Savannah Gripshover\n",
    "**Version:** 1.0  \n",
    "**Semester:** Spring 2024 \n",
    "\n",
    "This *notebook* contains my solution(s) to **Programming Assignment 3**"
   ]
  },
  {
   "cell_type": "markdown",
   "id": "9914a575-3927-4899-a7d3-a744fe7b7a7b",
   "metadata": {},
   "source": [
    "### Problem 1 - Geometry Calculator"
   ]
  },
  {
   "cell_type": "code",
   "execution_count": 1,
   "id": "b712de5f-1482-47c0-bd00-531743696d74",
   "metadata": {
    "tags": []
   },
   "outputs": [],
   "source": [
    "import math"
   ]
  },
  {
   "cell_type": "code",
   "execution_count": 2,
   "id": "a9d892c2-0b07-49e9-8432-d33883ded30f",
   "metadata": {
    "tags": []
   },
   "outputs": [],
   "source": [
    "def square():\n",
    "    x = float(input(\"Enter one side length of the square: \"))\n",
    "    p = 4*x\n",
    "    a = x**2\n",
    "    return p, a"
   ]
  },
  {
   "cell_type": "code",
   "execution_count": 3,
   "id": "0eedc215-41c0-4872-85a6-102a215efb0e",
   "metadata": {
    "tags": []
   },
   "outputs": [],
   "source": [
    "def triangle():\n",
    "    b = float(input(\"Enter the length of the base of the triangle: \"))\n",
    "    h = float(input(\"Enter the height of the triangle: \"))\n",
    "    hyp = math.sqrt((b**2)+(h**2))\n",
    "    p = b+h+hyp\n",
    "    a = 0.5*b*h\n",
    "    return p, a"
   ]
  },
  {
   "cell_type": "code",
   "execution_count": 4,
   "id": "b1dbea67-1dbf-48d8-ab57-728a7c51640b",
   "metadata": {
    "tags": []
   },
   "outputs": [],
   "source": [
    "def circle():\n",
    "    r = float(input(\"Enter the radius of the circle: \"))\n",
    "    p = 2*math.pi*r\n",
    "    a = math.pi*(r**2)\n",
    "    return p, a"
   ]
  },
  {
   "cell_type": "code",
   "execution_count": 5,
   "id": "e413e0ef-eeca-4a70-972b-3d64cdf4c4d6",
   "metadata": {
    "tags": []
   },
   "outputs": [],
   "source": [
    "def rectangle():\n",
    "    b = float(input(\"Enter the length of the base of the rectangle: \"))\n",
    "    h = float(input(\"Enter the height of the rectangle: \"))\n",
    "    p = (2*b)+(2*h)\n",
    "    a = b*h\n",
    "    return p, a"
   ]
  },
  {
   "cell_type": "code",
   "execution_count": 6,
   "id": "fbbd5898-f708-4696-88a4-b0a37a408d8b",
   "metadata": {
    "tags": []
   },
   "outputs": [],
   "source": [
    "def ellipse():\n",
    "    ea = float(input(\"Enter the distance from the center to the left side of the ellipse: \"))\n",
    "    eb = float(input(\"Enter the distance from the center to the top of the ellipse: \"))\n",
    "    p = math.pi*(3*(ea+eb)-math.sqrt((3*ea+eb)*(ea+3*eb)))\n",
    "    a = math.pi*ea*eb\n",
    "    return p, a"
   ]
  },
  {
   "cell_type": "code",
   "execution_count": 7,
   "id": "a5b0e09b-2107-40e6-8117-1a350ebd878e",
   "metadata": {
    "tags": []
   },
   "outputs": [],
   "source": [
    "def trapezoid():\n",
    "    b = float(input(\"Enter the length of the base of the trapezoid: \"))\n",
    "    t = float(input(\"Enter the length of the top of the trapezoid: \"))\n",
    "    h = float(input(\"Enter the height of the trapezoid: \"))\n",
    "    bt = (b-t)/2\n",
    "    hyp = math.sqrt((bt**2)+(h**2))\n",
    "    p = b+t+(2*hyp)\n",
    "    a = ((b+t)/2)*h\n",
    "    return p, a"
   ]
  },
  {
   "cell_type": "code",
   "execution_count": 8,
   "id": "52bd4cc0-7bdd-49ed-99ef-671ab13cee95",
   "metadata": {
    "tags": []
   },
   "outputs": [
    {
     "name": "stdout",
     "output_type": "stream",
     "text": [
      "Welcome to the Shape Calculator. Here are a list of commands:\n",
      "Q - Quit\n",
      "? - Help\n",
      "S - Square\n",
      "TRI - Triangle\n",
      "C - Circle\n",
      "R - Rectangle\n",
      "E - Ellipse\n",
      "TRAP - Trapezoid\n"
     ]
    }
   ],
   "source": [
    "commands = \"Q - Quit\\n? - Help\\nS - Square\\nTRI - Triangle\\nC - Circle\\nR - Rectangle\\nE - Ellipse\\nTRAP - Trapezoid\"\n",
    "\n",
    "print(\"Welcome to the Shape Calculator. Here are a list of commands:\\n\" + commands)"
   ]
  },
  {
   "cell_type": "code",
   "execution_count": 9,
   "id": "7d955723-29c3-447e-9387-a8812be78fcd",
   "metadata": {
    "tags": []
   },
   "outputs": [
    {
     "name": "stdin",
     "output_type": "stream",
     "text": [
      "\n",
      "Enter your shape, or enter '?' for a list of commands:  C\n",
      "Enter the radius of the circle:  4\n"
     ]
    },
    {
     "name": "stdout",
     "output_type": "stream",
     "text": [
      "Circle Circumference: 25.132741228718345\n",
      "Circle Area: 50.26548245743669\n"
     ]
    },
    {
     "name": "stdin",
     "output_type": "stream",
     "text": [
      "\n",
      "Enter your shape, or enter '?' for a list of commands:  Q\n"
     ]
    },
    {
     "name": "stdout",
     "output_type": "stream",
     "text": [
      "Thank you for using the shape calculator.\n"
     ]
    }
   ],
   "source": [
    "quit = False\n",
    "while not quit:\n",
    "    user_input = input(\"\\nEnter your shape, or enter \\'?\\' for a list of commands: \")\n",
    "    if user_input == \"Q\":\n",
    "        print(\"Thank you for using the shape calculator.\")\n",
    "        quit = True\n",
    "    elif user_input == \"?\":\n",
    "        print(commands)\n",
    "    elif user_input == \"S\":\n",
    "        p, a = square()\n",
    "        print(f\"Square Perimeter: {p}\\nSquare Area: {a}\")\n",
    "    elif user_input == \"TRI\":\n",
    "        p, a = triangle()\n",
    "        print(f\"Triangle Perimeter: {p}\\nTriangle Area: {a}\")\n",
    "    elif user_input == \"C\":\n",
    "        p, a = circle()\n",
    "        print(f\"Circle Circumference: {p}\\nCircle Area: {a}\")\n",
    "    elif user_input == \"R\":\n",
    "        p, a = rectangle()\n",
    "        print(f\"Rectangle Perimeter: {p}\\nRectangle Area: {a}\")\n",
    "    elif user_input == \"E\":\n",
    "        p, a = ellipse()\n",
    "        print(f\"Ellipse Circumference: {p}\\nEllipse Area: {a}\")\n",
    "    elif user_input == \"TRAP\":\n",
    "        p, a = trapezoid()\n",
    "        print(f\"Trapezoid Perimeter: {p}\\nTrapezoid Area: {a}\")\n",
    "    else:\n",
    "        print(\"That is not a valid option\")"
   ]
  },
  {
   "cell_type": "markdown",
   "id": "2c2d9ac7-d782-445b-85f8-e95a68fd9a85",
   "metadata": {},
   "source": [
    "### Problem 2 - Horse Calculation"
   ]
  },
  {
   "cell_type": "code",
   "execution_count": 11,
   "id": "9ac4b9e5-d2d2-4178-a099-20fb63a7f5fc",
   "metadata": {
    "tags": []
   },
   "outputs": [],
   "source": [
    "def convert_hands(hands):\n",
    "    feet = hands * 4 / 12\n",
    "    return feet"
   ]
  },
  {
   "cell_type": "code",
   "execution_count": 12,
   "id": "fce8c704-2ca3-49b8-9fda-449e2992aa05",
   "metadata": {
    "tags": []
   },
   "outputs": [],
   "source": [
    "def convert_length(lengths):\n",
    "    feet = lengths * 8\n",
    "    return feet"
   ]
  },
  {
   "cell_type": "code",
   "execution_count": 19,
   "id": "da04c2b0-19b9-410c-bf35-df95525a59c7",
   "metadata": {
    "tags": []
   },
   "outputs": [],
   "source": [
    "def main():\n",
    "    while True:\n",
    "        print(\"Choose the unit to convert:\")\n",
    "        print(\"H - Hands to Feet\")\n",
    "        print(\"L - Lengths to Feet\")\n",
    "        print(\"Q - Quit\")\n",
    "\n",
    "        choice = input(\"Enter your choice: \").upper()\n",
    "\n",
    "        if choice == 'Q':\n",
    "            print(\"Exiting program...\")\n",
    "            break\n",
    "        elif choice == 'H':\n",
    "            try:\n",
    "                hands = float(input(\"Enter the number of hands: \"))\n",
    "                feet = convert_hands(hands)\n",
    "                print(f\"{hands} hands is equal to {feet} feet.\")\n",
    "            except ValueError:\n",
    "                print(\"Invalid input. Please enter a valid number.\")\n",
    "        elif choice == 'L':\n",
    "            try:\n",
    "                lengths = float(input(\"Enter the number of lengths: \"))\n",
    "                feet = convert_length(lengths)\n",
    "                print(f\"{lengths} lengths is equal to {feet} feet.\")\n",
    "            except ValueError:\n",
    "                print(\"Invalid input. Please enter a valid number.\")\n",
    "        else:\n",
    "            print(\"That is not a valid option.\")"
   ]
  },
  {
   "cell_type": "code",
   "execution_count": null,
   "id": "8f7a15d8-0673-44e5-88a5-cebc77f4913c",
   "metadata": {
    "tags": []
   },
   "outputs": [
    {
     "name": "stdout",
     "output_type": "stream",
     "text": [
      "Choose the unit to convert:\n",
      "H - Hands to Feet\n",
      "L - Lengths to Feet\n",
      "Q - Quit\n"
     ]
    }
   ],
   "source": [
    "main()"
   ]
  },
  {
   "cell_type": "markdown",
   "id": "e6631973-574d-4d3f-a17a-0d054ca43659",
   "metadata": {},
   "source": [
    "### Problem 3 - Mean Temperature"
   ]
  },
  {
   "cell_type": "code",
   "execution_count": 10,
   "id": "0d94b2cc-774e-4c59-b8ba-c8402ee993fa",
   "metadata": {
    "tags": []
   },
   "outputs": [
    {
     "name": "stdout",
     "output_type": "stream",
     "text": [
      "The mean temperature for the past 4 days is 55.25 degrees F.\n"
     ]
    }
   ],
   "source": [
    "def meanTemp(*args):\n",
    "    total = 0\n",
    "    for n in args:\n",
    "        total = total+n\n",
    "    mean = total/len(args)\n",
    "    print(f\"The mean temperature for the past {len(args)} days is {mean} degrees F.\")\n",
    "\n",
    "meanTemp(67, 34, 75, 45)"
   ]
  },
  {
   "cell_type": "code",
   "execution_count": null,
   "id": "2be32469-9cda-4eed-9f7a-b6e1dd0704cc",
   "metadata": {},
   "outputs": [],
   "source": []
  }
 ],
 "metadata": {
  "kernelspec": {
   "display_name": "Python 3 (ipykernel)",
   "language": "python",
   "name": "python3"
  },
  "language_info": {
   "codemirror_mode": {
    "name": "ipython",
    "version": 3
   },
   "file_extension": ".py",
   "mimetype": "text/x-python",
   "name": "python",
   "nbconvert_exporter": "python",
   "pygments_lexer": "ipython3",
   "version": "3.11.5"
  }
 },
 "nbformat": 4,
 "nbformat_minor": 5
}
